{
 "cells": [
  {
   "cell_type": "code",
   "execution_count": 1,
   "metadata": {},
   "outputs": [],
   "source": [
    "import sys\n",
    "sys.path.append('..')\n",
    "\n",
    "import pandas as pd\n",
    "import numpy as np\n",
    "from pprint import pprint\n",
    "\n",
    "from xai.formatter.report import Report\n",
    "from xai.data.explorer.data_analyzer_suite import DataAnalyzerSuite\n"
   ]
  },
  {
   "cell_type": "code",
   "execution_count": 2,
   "metadata": {},
   "outputs": [],
   "source": [
    "## initialize report object\n",
    "report = Report(name = 'Titanic Report')\n",
    "report.detail.add_section_title(\"Data Section\")\n"
   ]
  },
  {
   "cell_type": "code",
   "execution_count": 3,
   "metadata": {},
   "outputs": [
    {
     "data": {
      "text/html": [
       "<div>\n",
       "<style scoped>\n",
       "    .dataframe tbody tr th:only-of-type {\n",
       "        vertical-align: middle;\n",
       "    }\n",
       "\n",
       "    .dataframe tbody tr th {\n",
       "        vertical-align: top;\n",
       "    }\n",
       "\n",
       "    .dataframe thead th {\n",
       "        text-align: right;\n",
       "    }\n",
       "</style>\n",
       "<table border=\"1\" class=\"dataframe\">\n",
       "  <thead>\n",
       "    <tr style=\"text-align: right;\">\n",
       "      <th></th>\n",
       "      <th>PassengerId</th>\n",
       "      <th>Survived</th>\n",
       "      <th>Pclass</th>\n",
       "      <th>Name</th>\n",
       "      <th>Sex</th>\n",
       "      <th>Age</th>\n",
       "      <th>SibSp</th>\n",
       "      <th>Parch</th>\n",
       "      <th>Ticket</th>\n",
       "      <th>Fare</th>\n",
       "      <th>Cabin</th>\n",
       "      <th>Embarked</th>\n",
       "      <th>Birthday</th>\n",
       "    </tr>\n",
       "  </thead>\n",
       "  <tbody>\n",
       "    <tr>\n",
       "      <th>0</th>\n",
       "      <td>1</td>\n",
       "      <td>0</td>\n",
       "      <td>3</td>\n",
       "      <td>Braund, Mr. Owen Harris</td>\n",
       "      <td>male</td>\n",
       "      <td>22.0</td>\n",
       "      <td>1</td>\n",
       "      <td>0</td>\n",
       "      <td>A/5 21171</td>\n",
       "      <td>7.2500</td>\n",
       "      <td>NaN</td>\n",
       "      <td>S</td>\n",
       "      <td>19710817</td>\n",
       "    </tr>\n",
       "    <tr>\n",
       "      <th>1</th>\n",
       "      <td>2</td>\n",
       "      <td>1</td>\n",
       "      <td>1</td>\n",
       "      <td>Cumings, Mrs. John Bradley (Florence Briggs Th...</td>\n",
       "      <td>female</td>\n",
       "      <td>38.0</td>\n",
       "      <td>1</td>\n",
       "      <td>0</td>\n",
       "      <td>PC 17599</td>\n",
       "      <td>71.2833</td>\n",
       "      <td>C85</td>\n",
       "      <td>C</td>\n",
       "      <td>19720114</td>\n",
       "    </tr>\n",
       "    <tr>\n",
       "      <th>2</th>\n",
       "      <td>3</td>\n",
       "      <td>1</td>\n",
       "      <td>3</td>\n",
       "      <td>Heikkinen, Miss. Laina</td>\n",
       "      <td>female</td>\n",
       "      <td>26.0</td>\n",
       "      <td>0</td>\n",
       "      <td>0</td>\n",
       "      <td>STON/O2. 3101282</td>\n",
       "      <td>7.9250</td>\n",
       "      <td>NaN</td>\n",
       "      <td>S</td>\n",
       "      <td>19630815</td>\n",
       "    </tr>\n",
       "    <tr>\n",
       "      <th>3</th>\n",
       "      <td>4</td>\n",
       "      <td>1</td>\n",
       "      <td>1</td>\n",
       "      <td>Futrelle, Mrs. Jacques Heath (Lily May Peel)</td>\n",
       "      <td>female</td>\n",
       "      <td>35.0</td>\n",
       "      <td>1</td>\n",
       "      <td>0</td>\n",
       "      <td>113803</td>\n",
       "      <td>53.1000</td>\n",
       "      <td>C123</td>\n",
       "      <td>S</td>\n",
       "      <td>19720815</td>\n",
       "    </tr>\n",
       "    <tr>\n",
       "      <th>4</th>\n",
       "      <td>5</td>\n",
       "      <td>0</td>\n",
       "      <td>3</td>\n",
       "      <td>Allen, Mr. William Henry</td>\n",
       "      <td>male</td>\n",
       "      <td>35.0</td>\n",
       "      <td>0</td>\n",
       "      <td>0</td>\n",
       "      <td>373450</td>\n",
       "      <td>8.0500</td>\n",
       "      <td>NaN</td>\n",
       "      <td>S</td>\n",
       "      <td>19730515</td>\n",
       "    </tr>\n",
       "  </tbody>\n",
       "</table>\n",
       "</div>"
      ],
      "text/plain": [
       "   PassengerId  Survived  Pclass  \\\n",
       "0            1         0       3   \n",
       "1            2         1       1   \n",
       "2            3         1       3   \n",
       "3            4         1       1   \n",
       "4            5         0       3   \n",
       "\n",
       "                                                Name     Sex   Age  SibSp  \\\n",
       "0                            Braund, Mr. Owen Harris    male  22.0      1   \n",
       "1  Cumings, Mrs. John Bradley (Florence Briggs Th...  female  38.0      1   \n",
       "2                             Heikkinen, Miss. Laina  female  26.0      0   \n",
       "3       Futrelle, Mrs. Jacques Heath (Lily May Peel)  female  35.0      1   \n",
       "4                           Allen, Mr. William Henry    male  35.0      0   \n",
       "\n",
       "   Parch            Ticket     Fare Cabin Embarked  Birthday  \n",
       "0      0         A/5 21171   7.2500   NaN        S  19710817  \n",
       "1      0          PC 17599  71.2833   C85        C  19720114  \n",
       "2      0  STON/O2. 3101282   7.9250   NaN        S  19630815  \n",
       "3      0            113803  53.1000  C123        S  19720815  \n",
       "4      0            373450   8.0500   NaN        S  19730515  "
      ]
     },
     "execution_count": 3,
     "metadata": {},
     "output_type": "execute_result"
    }
   ],
   "source": [
    "## load training data\n",
    "training_file_name = './compiler/sample_input/titanic/titanic.csv'\n",
    "data = pd.read_csv(training_file_name)\n",
    "bday = []\n",
    "for i in range(len(data)):\n",
    "    year = np.random.randint(low=1960,high=1979)\n",
    "    month = np.random.randint(low=1,high=12)\n",
    "    day = np.random.randint(low=1,high=28)\n",
    "    bday.append(\"%s\"%(10000*year+100*month+day))\n",
    "data['Birthday'] = bday\n",
    "data.head()"
   ]
  },
  {
   "cell_type": "markdown",
   "metadata": {},
   "source": [
    "## Lable Distribution"
   ]
  },
  {
   "cell_type": "code",
   "execution_count": 4,
   "metadata": {},
   "outputs": [
    {
     "name": "stdout",
     "output_type": "stream",
     "text": [
      "[('Survived', defaultdict(<class 'int'>, {0: 549, 1: 342}))]\n"
     ]
    }
   ],
   "source": [
    "from xai.data.explorer import CategoricalDataAnalyzer\n",
    "label_analyzer = CategoricalDataAnalyzer()\n",
    "label_column = 'Survived'\n",
    "\n",
    "label_analyzer.feed_all(data[label_column].tolist())\n",
    "label_stats = label_analyzer.get_statistics()\n",
    "\n",
    "data_distributions = []\n",
    "data_distributions.append((label_column,label_stats.frequency_count))\n",
    "print(data_distributions)"
   ]
  },
  {
   "cell_type": "code",
   "execution_count": 5,
   "metadata": {},
   "outputs": [],
   "source": [
    "report.detail.add_header_level_1(text='Class distribution analysis')\n",
    "report.detail.add_data_set_distribution(data_distributions)"
   ]
  },
  {
   "cell_type": "code",
   "execution_count": 6,
   "metadata": {},
   "outputs": [
    {
     "data": {
      "text/plain": [
       "PassengerId      int64\n",
       "Survived         int64\n",
       "Pclass           int64\n",
       "Name            object\n",
       "Sex             object\n",
       "Age            float64\n",
       "SibSp            int64\n",
       "Parch            int64\n",
       "Ticket          object\n",
       "Fare           float64\n",
       "Cabin           object\n",
       "Embarked        object\n",
       "Birthday        object\n",
       "dtype: object"
      ]
     },
     "execution_count": 6,
     "metadata": {},
     "output_type": "execute_result"
    }
   ],
   "source": [
    "data.dtypes"
   ]
  },
  {
   "cell_type": "markdown",
   "metadata": {},
   "source": [
    "## Data Field Attribute"
   ]
  },
  {
   "cell_type": "code",
   "execution_count": 7,
   "metadata": {},
   "outputs": [
    {
     "name": "stdout",
     "output_type": "stream",
     "text": [
      "Warning: the feature [PassengerId] is suspected to be identifierable feature. \n",
      "[Examples]: [1, 2, 3, 4, 5]\n",
      "\n",
      "Warning: the feature [Ticket] is suspected to be identifierable feature. \n",
      "[Examples]: ['A/5 21171', 'PC 17599', 'STON/O2. 3101282', '113803', '373450']\n",
      "\n",
      "Warning: the feature [Cabin] is suspected to be identifierable feature. \n",
      "[Examples]: [nan, 'C85', nan, 'C123', nan]\n",
      "\n",
      "['Pclass',\n",
      " 'Name',\n",
      " 'Sex',\n",
      " 'Age',\n",
      " 'SibSp',\n",
      " 'Parch',\n",
      " 'Fare',\n",
      " 'Embarked',\n",
      " 'Birthday']\n",
      "['categorical',\n",
      " 'text',\n",
      " 'categorical',\n",
      " 'numerical',\n",
      " 'categorical',\n",
      " 'categorical',\n",
      " 'numerical',\n",
      " 'categorical',\n",
      " 'datetime']\n",
      "{'Age': {'structured': 'attribute', 'type': 'numerical', 'used': True},\n",
      " 'Birthday': {'structured': 'attribute', 'type': 'datetime', 'used': True},\n",
      " 'Cabin': {'structured': 'attribute', 'type': 'Key', 'used': True},\n",
      " 'Embarked': {'structured': 'attribute', 'type': 'categorical', 'used': True},\n",
      " 'Fare': {'structured': 'attribute', 'type': 'numerical', 'used': True},\n",
      " 'Name': {'structured': 'attribute', 'type': 'Text', 'used': True},\n",
      " 'Parch': {'structured': 'attribute', 'type': 'categorical', 'used': True},\n",
      " 'PassengerId': {'structured': 'attribute', 'type': 'Key', 'used': True},\n",
      " 'Pclass': {'structured': 'attribute', 'type': 'categorical', 'used': True},\n",
      " 'Sex': {'structured': 'attribute', 'type': 'categorical', 'used': True},\n",
      " 'SibSp': {'structured': 'attribute', 'type': 'categorical', 'used': True},\n",
      " 'Survived': {'structured': 'attribute', 'type': 'label', 'used': True},\n",
      " 'Ticket': {'structured': 'attribute', 'type': 'Key', 'used': True}}\n"
     ]
    }
   ],
   "source": [
    "# get the data type\n",
    "from xai.data.constants import DATATYPE\n",
    "import dateutil\n",
    "from statistics import median\n",
    "from collections import Counter\n",
    "from copy import deepcopy\n",
    "\n",
    "def get_column_types(data, threshold, label_column):\n",
    "    \n",
    "    def check_numercial(col_data):\n",
    "        if col_data.dtypes == np.float64:\n",
    "            return True\n",
    "        else:\n",
    "            return False\n",
    "        \n",
    "    def check_datetime(col_data):\n",
    "        if col_data.dtypes == np.int64:\n",
    "            return False\n",
    "        \n",
    "        def parse_date(date):\n",
    "            try:\n",
    "                dt = dateutil.parser.parse(str(date))\n",
    "                return 0\n",
    "            except ValueError:\n",
    "                return 1\n",
    "\n",
    "        counter = Counter(col_data.tolist())\n",
    "        if len(counter) >= threshold * len(col_data):\n",
    "            invalid_count = 0\n",
    "            for date in col_data.tolist():\n",
    "                invalid_count += parse_date(date)\n",
    "            if invalid_count<threshold*len(col_data):\n",
    "                return True\n",
    "            else:\n",
    "                return False\n",
    "        else:\n",
    "            return False\n",
    "        \n",
    "    def check_categorical(col_data):\n",
    "        counter = Counter(col_data.tolist())\n",
    "        if len(counter) < threshold * len(col_data):\n",
    "            _median = median(counter.values())\n",
    "            if _median == 1:\n",
    "                return False\n",
    "            else:\n",
    "                return True\n",
    "        else:\n",
    "            return False\n",
    "        \n",
    "    def check_text(col_dat):\n",
    "        def _get_token_number(x):\n",
    "            return len(x.split(' '))\n",
    "        if col_data.dtypes == object:\n",
    "            if len(col_data.unique()) > len(col_data)*threshold:\n",
    "                if median(col_data.apply(_get_token_number))>3:\n",
    "                    return True\n",
    "                else:\n",
    "                    return False\n",
    "    \n",
    "                \n",
    "    valid_feature_names = []\n",
    "    valid_feature_types = []\n",
    "    feature = {}\n",
    "    feature['categorical'] = []\n",
    "    feature['numerical'] = []\n",
    "    feature['text'] = []\n",
    "    feature['datetime'] = []\n",
    "    meta = {}\n",
    "    for column in data.columns:\n",
    "        if column == label_column:\n",
    "            meta[column] = {'type': 'label', 'used': True, 'structured':'attribute'}\n",
    "            continue\n",
    "        col_data = data[column]\n",
    "        \n",
    "        if check_datetime(col_data):\n",
    "            # datetime data\n",
    "            feature['datetime'].append(column)\n",
    "            valid_feature_names.append(column)\n",
    "            valid_feature_types.append(DATATYPE.DATETIME)\n",
    "            meta[column] = {'type': 'datetime', 'used': True, 'structured':'attribute'}\n",
    "        \n",
    "        elif check_numercial(col_data): \n",
    "            # numerical data\n",
    "            feature['numerical'].append(column)\n",
    "            valid_feature_names.append(column)\n",
    "            valid_feature_types.append(DATATYPE.NUMBER)\n",
    "            meta[column] = {'type': 'numerical', 'used': True, 'structured':'attribute'}\n",
    "        \n",
    "        elif check_categorical(col_data): \n",
    "            # categorical data \n",
    "            feature['categorical'].append(column)\n",
    "            valid_feature_names.append(column)\n",
    "            valid_feature_types.append(DATATYPE.CATEGORY)\n",
    "            meta[column] = {'type': 'categorical', 'used': True, 'structured':'attribute'}\n",
    "        \n",
    "        elif check_text(col_data):\n",
    "            # text data\n",
    "            feature['text'].append(column)\n",
    "            valid_feature_names.append(column)\n",
    "            valid_feature_types.append(DATATYPE.FREETEXT)\n",
    "            meta[column] = {'type': 'Text', 'used': True, 'structured':'attribute'}\n",
    "        \n",
    "        else:\n",
    "            print('Warning: the feature [%s] is suspected to be identifierable feature. \\n[Examples]: %s\\n' % (column, col_data.tolist()[:5]))\n",
    "            meta[column] = {'type': 'Key', 'used': True, 'structured':'attribute'}               \n",
    "\n",
    "    return feature, valid_feature_names, valid_feature_types, meta\n",
    "\n",
    "feature, valid_feature_names, valid_feature_types, meta = get_column_types(data=data,\n",
    "                                                                           threshold=0.3,\n",
    "                                                                           label_column=label_column)\n",
    "\n",
    "# pprint(feature)\n",
    "pprint(valid_feature_names)\n",
    "pprint(valid_feature_types)\n",
    "pprint(meta)"
   ]
  },
  {
   "cell_type": "code",
   "execution_count": 8,
   "metadata": {},
   "outputs": [],
   "source": [
    "report.detail.add_data_attributes(meta)"
   ]
  },
  {
   "cell_type": "markdown",
   "metadata": {},
   "source": [
    "## Data distribution"
   ]
  },
  {
   "cell_type": "code",
   "execution_count": 9,
   "metadata": {},
   "outputs": [
    {
     "name": "stdout",
     "output_type": "stream",
     "text": [
      "{'Age': 'numerical',\n",
      " 'Birthday': 'datetime',\n",
      " 'Embarked': 'categorical',\n",
      " 'Fare': 'numerical',\n",
      " 'Name': 'text',\n",
      " 'Parch': 'categorical',\n",
      " 'Pclass': 'categorical',\n",
      " 'Sex': 'categorical',\n",
      " 'SibSp': 'categorical'}\n"
     ]
    }
   ],
   "source": [
    "data_analyzer_suite = DataAnalyzerSuite(data_type_list=valid_feature_types,column_names=valid_feature_names)\n",
    "pprint(data_analyzer_suite.schema)"
   ]
  },
  {
   "cell_type": "code",
   "execution_count": 10,
   "metadata": {},
   "outputs": [
    {
     "name": "stdout",
     "output_type": "stream",
     "text": [
      "Pclass\n",
      "Name\n"
     ]
    },
    {
     "name": "stderr",
     "output_type": "stream",
     "text": [
      "/Users/i062308/anaconda3/envs/xai-py37/lib/python3.7/site-packages/ipykernel_launcher.py:4: SettingWithCopyWarning: \n",
      "A value is trying to be set on a copy of a slice from a DataFrame\n",
      "\n",
      "See the caveats in the documentation: http://pandas.pydata.org/pandas-docs/stable/user_guide/indexing.html#returning-a-view-versus-a-copy\n",
      "  after removing the cwd from sys.path.\n"
     ]
    },
    {
     "name": "stdout",
     "output_type": "stream",
     "text": [
      "Sex\n",
      "Age\n",
      "SibSp\n",
      "Parch\n",
      "Fare\n",
      "Embarked\n",
      "Birthday\n"
     ]
    }
   ],
   "source": [
    "for column, column_type in zip(valid_feature_names,valid_feature_types):\n",
    "    print(column)\n",
    "    if column_type in ['categorical','text']:\n",
    "        data[column][data[column].isnull()] = 'NAN'\n",
    "    data_analyzer_suite.feed_column(column_name=column, column_data=data[column].tolist(), labels=data[label_column])"
   ]
  },
  {
   "cell_type": "code",
   "execution_count": 11,
   "metadata": {},
   "outputs": [
    {
     "data": {
      "text/plain": [
       "0.0"
      ]
     },
     "execution_count": 11,
     "metadata": {},
     "output_type": "execute_result"
    }
   ],
   "source": [
    "stats = data_analyzer_suite.get_statistics()\n",
    "min(stats['Name'][1].tfidf.values())"
   ]
  },
  {
   "cell_type": "code",
   "execution_count": 12,
   "metadata": {},
   "outputs": [],
   "source": [
    "### Add Header Level 3\n",
    "report.detail.add_header_level_3(text='Categorical Field Distribution')"
   ]
  },
  {
   "cell_type": "code",
   "execution_count": 13,
   "metadata": {},
   "outputs": [],
   "source": [
    "### Categorical field distribution    \n",
    "for field_name in feature['categorical']:\n",
    "    labelled_stats, all_stats = stats[field_name]\n",
    "    report.detail.add_categorical_field_distribution(field_name=field_name, field_distribution=labelled_stats)"
   ]
  },
  {
   "cell_type": "code",
   "execution_count": 14,
   "metadata": {},
   "outputs": [],
   "source": [
    "### Numeric field distribution    \n",
    "for field_name in feature['numerical']:\n",
    "    labelled_stats, all_stats = stats[field_name]\n",
    "    report.detail.add_numeric_field_distribution(field_name=field_name, field_distribution=labelled_stats)"
   ]
  },
  {
   "cell_type": "code",
   "execution_count": 15,
   "metadata": {},
   "outputs": [],
   "source": [
    "### Text field distribution    \n",
    "for field_name in feature['text']:\n",
    "    labelled_stats, all_stats = stats[field_name]\n",
    "    report.detail.add_text_field_distribution(field_name=field_name, field_distribution=labelled_stats)"
   ]
  },
  {
   "cell_type": "code",
   "execution_count": 16,
   "metadata": {},
   "outputs": [],
   "source": [
    "### Date Time field distribution    \n",
    "for field_name in feature['datetime']:\n",
    "    labelled_stats, all_stats = stats[field_name]\n",
    "    report.detail.add_datetime_field_distribution(field_name=field_name, field_distribution=labelled_stats)"
   ]
  },
  {
   "cell_type": "markdown",
   "metadata": {},
   "source": [
    "## Missing Value"
   ]
  },
  {
   "cell_type": "code",
   "execution_count": 17,
   "metadata": {},
   "outputs": [
    {
     "name": "stdout",
     "output_type": "stream",
     "text": [
      "{'Age': ['NAN'],\n",
      " 'Embarked': ['NAN'],\n",
      " 'Fare': ['NAN'],\n",
      " 'Parch': ['NAN'],\n",
      " 'Pclass': ['NAN'],\n",
      " 'Sex': ['NAN'],\n",
      " 'SibSp': ['NAN']}\n"
     ]
    }
   ],
   "source": [
    "from xai.data.validator import EnumValidator\n",
    "\n",
    "def generate_missing_value_schema(valid_feature_names,valid_feature_types):\n",
    "    missing_value_schema = dict()\n",
    "    for name, column_type in zip(valid_feature_names,valid_feature_types):\n",
    "        if column_type == 'categorical':\n",
    "            missing_value_schema[name] = ['NAN']\n",
    "        if column_type == 'numerical':\n",
    "            missing_value_schema[name] = ['NAN']\n",
    "    return missing_value_schema\n",
    "\n",
    "schema = generate_missing_value_schema(valid_feature_names,valid_feature_types)\n",
    "pprint(schema)"
   ]
  },
  {
   "cell_type": "code",
   "execution_count": 18,
   "metadata": {},
   "outputs": [],
   "source": [
    "import json\n",
    "json_line = json.loads(data.to_json(orient='records'))\n",
    "enum_validator = EnumValidator(schema=schema)\n",
    "enum_validator.validate_all(sample_list = json_line)\n",
    "stats = enum_validator.get_statistics()"
   ]
  },
  {
   "cell_type": "code",
   "execution_count": 19,
   "metadata": {},
   "outputs": [
    {
     "name": "stdout",
     "output_type": "stream",
     "text": [
      "{'Embarked': 2}\n",
      "{'Age': 891,\n",
      " 'Embarked': 891,\n",
      " 'Fare': 891,\n",
      " 'Parch': 891,\n",
      " 'Pclass': 891,\n",
      " 'Sex': 891,\n",
      " 'SibSp': 891}\n"
     ]
    }
   ],
   "source": [
    "missing_count = dict(stats.column_stats)\n",
    "total_count = {feature_name: stats.total_count for feature_name in schema.keys()}\n",
    "pprint(missing_count)\n",
    "pprint(total_count)\n",
    "report.detail.add_data_missing_value(missing_count=dict(missing_count), total_count=total_count)"
   ]
  },
  {
   "cell_type": "code",
   "execution_count": 20,
   "metadata": {},
   "outputs": [
    {
     "name": "stdout",
     "output_type": "stream",
     "text": [
      "report generated : /Users/i062308/Development/Explainable_AI/tests/sample-report-final-with-summary.pdf\n"
     ]
    }
   ],
   "source": [
    "import os\n",
    "from xai.formatter import PdfWriter\n",
    "report.generate(writer=PdfWriter(name='data-sample-report'))\n",
    "print(\"report generated : %s/sample-report-final-with-summary.pdf\" % os.getcwd())"
   ]
  }
 ],
 "metadata": {
  "kernelspec": {
   "display_name": "Python 3",
   "language": "python",
   "name": "python3"
  },
  "language_info": {
   "codemirror_mode": {
    "name": "ipython",
    "version": 3
   },
   "file_extension": ".py",
   "mimetype": "text/x-python",
   "name": "python",
   "nbconvert_exporter": "python",
   "pygments_lexer": "ipython3",
   "version": "3.6.4"
  }
 },
 "nbformat": 4,
 "nbformat_minor": 4
}
