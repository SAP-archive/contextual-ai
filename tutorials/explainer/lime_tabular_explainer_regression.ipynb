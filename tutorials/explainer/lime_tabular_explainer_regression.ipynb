{
 "cells": [
  {
   "cell_type": "markdown",
   "metadata": {},
   "source": [
    "# LIME Tabular Explainer via Contextual AI for Regression\n",
    "\n",
    "This tutorial demonstrates how to generate explanations using LIME's tabular explainer implemented by the Contextual AI library for a regression task.\n",
    "\n",
    "At a high level, explanations can be obtained from any Contextual AI explanation algorithm in 3 steps:\n",
    "\n",
    "1. Create an explainer via the `ExplainerFactory` class, which serves as the primary interface between the user and all Contextual AI-supported explanation algorithms\n",
    "2. Build the explainer by calling the `build_explainer` method (which is implemented by any Contextual AI explanation algorithm) and providing arguments that are specific to that algorithm\n",
    "3. Get explanations for some data instance by calling the `explain_instance` method (which is also common among all algorithms) and provoding arguments that are specific to that algorithm"
   ]
  },
  {
   "cell_type": "markdown",
   "metadata": {},
   "source": [
    "### Step 1: Import libraries\n",
    "\n",
    "`xai.explainer.ExplainerFactory` is the main class that users of Contextual AI interact with. `xai` contains some constants that are used to instantiate an `AbstractExplainer` object."
   ]
  },
  {
   "cell_type": "code",
   "execution_count": 1,
   "metadata": {},
   "outputs": [],
   "source": [
    "# Some auxiliary imports for the tutorial\n",
    "import sys\n",
    "import random\n",
    "import numpy as np\n",
    "from pprint import pprint\n",
    "from sklearn import datasets\n",
    "from sklearn.model_selection import train_test_split\n",
    "from sklearn.ensemble import RandomForestRegressor\n",
    "\n",
    "# Set seed for reproducibility\n",
    "np.random.seed(123456)\n",
    "\n",
    "# Set the path so that we can import ExplainerFactory\n",
    "sys.path.append('../..')\n",
    "\n",
    "# Main Contextual AI imports\n",
    "import xai\n",
    "from xai.explainer import ExplainerFactory"
   ]
  },
  {
   "cell_type": "markdown",
   "metadata": {},
   "source": [
    "### Step 2: Train a model on a sample dataset\n",
    "\n",
    "We train a sample `RandomForestRegressor` model on the Boston housing dataset, a sample regression problem that is provided by scikit-learn."
   ]
  },
  {
   "cell_type": "code",
   "execution_count": 2,
   "metadata": {},
   "outputs": [
    {
     "name": "stdout",
     "output_type": "stream",
     "text": [
      "Random Forest MSError 9.785803784803988\n"
     ]
    }
   ],
   "source": [
    "raw_data = datasets.load_boston()\n",
    "X, y = raw_data['data'], raw_data['target']\n",
    "X_train, X_test, y_train, y_test = train_test_split(X, y, test_size=0.2)\n",
    "\n",
    "# Instantiate a classifier, train, and evaluate on test set\n",
    "clf = RandomForestRegressor(n_estimators=1000)\n",
    "clf.fit(X_train, y_train)\n",
    "print('Random Forest MSError', np.mean((clf.predict(X_test) - y_test) ** 2))"
   ]
  },
  {
   "cell_type": "markdown",
   "metadata": {},
   "source": [
    "### Step 3: Instantiate the explainer\n",
    "\n",
    "This is where we instantiate the Contextual AI explainer. This `ExplainerFactory` class is in charge of loading a particular explanation algorithm. The user is required to provide one argument - the `domain`, which indicates the domain of the training data (e.g. `tabular` or `text`). The available domains can be found in `xai.DOMAIN`. Users can also select a particular explainer algorithm by providing the algorithm's name (registered in `xai.ALG`) to the `algorithm` parameter. If this argument is not provided, the `ExplainerFactory.get_explainer` method defaults to a pre-set algorithm for that domain which can be found in `xai/explainer/config.py`. \n",
    "\n",
    "We want to load the `LimeTabularExplainer`, so we provide `xai.DOMAIN.TABULAR` as the argument to `domain` and `xai.ALG.LIME` as the argument to `algorithm`. Note that `xai.ALG.LIME` is the default tabular explanation algorithm; hence this also works:\n",
    "\n",
    "```python\n",
    "explainer = ExplainerFactory.get_explainer(domain=xai.DOMAIN.TABULAR)\n",
    "```"
   ]
  },
  {
   "cell_type": "code",
   "execution_count": 3,
   "metadata": {},
   "outputs": [],
   "source": [
    "# Instantiate LimeTabularExplainer via the Explainer interface\n",
    "explainer = ExplainerFactory.get_explainer(domain=xai.DOMAIN.TABULAR, \n",
    "                                           algorithm=xai.ALG.LIME)"
   ]
  },
  {
   "cell_type": "markdown",
   "metadata": {},
   "source": [
    "### Step 4: Build the explainer\n",
    "\n",
    "`build_explainer` calls the explanation algorithms initialization routine, which can include things like setting parameters or a pre-training loop. The `LimeTabularExplainer` requires the following parameters:\n",
    "\n",
    "* training_data (np.ndarray): 2d Numpy array representing the training data\n",
    "    (or some representative subset) (**required**)\n",
    "* mode (str): Whether the problem is 'classification' or 'regression' (**required**)\n",
    "* predict_fn (function): A function that wraps the target model's prediction function - it takes in a 1D numpy array and outputs a vector of probabilities which should sum to 1 (**required**) \n",
    "\n",
    "In this tutorial, we set mode to `xai.MODE.REGRESSION`. We also provide the following parameters:\n",
    "\n",
    "* training_labels (list): Training labels, which can be used by the continuous feature\n",
    "    discretizer\n",
    "* feature_names (list): The names of the columns of the training data\n",
    "* categorical_features (list): Integer list indicating the indices of categorical features"
   ]
  },
  {
   "cell_type": "code",
   "execution_count": 4,
   "metadata": {},
   "outputs": [],
   "source": [
    "categorical_features = np.argwhere(np.array([len(set(raw_data.data[:,x])) \n",
    "                                             for x in range(raw_data.data.shape[1])]) <= 10).flatten()\n",
    "\n",
    "explainer.build_explainer(\n",
    "    training_data=X_train,\n",
    "    training_labels=y_train,\n",
    "    mode=xai.MODE.REGRESSION,\n",
    "    predict_fn=clf.predict,\n",
    "    feature_names=raw_data['feature_names'],\n",
    "    categorical_features=categorical_features\n",
    ")"
   ]
  },
  {
   "cell_type": "markdown",
   "metadata": {},
   "source": [
    "### Step 5: Generate some explanations\n",
    "\n",
    "Once we build the explainer, we can start generating some explanations via the `explain_instance` method. The `LimeTabularExplainer` expects several things, like:\n",
    "* instance (np.ndarray): A 1D numpy array corresponding to a row/single example (**required**)\n",
    "\n",
    "You can also pass the following:\n",
    "\n",
    "* labels (list): The list of class indexes to produce explanations for\n",
    "* top_labels (int): If not None, this overwrites labels and the explainer instead produces\n",
    "    explanations for the top k classes\n",
    "* num_features (int): Number of features to include in an explanation\n",
    "* num_samples (int): The number of perturbed samples to train the LIME model with\n",
    "* distance_metric (str): The distance metric to use for weighting the loss function\n",
    "\n",
    "\n",
    "We restrict explanations to 10 features (meaning only 10 features will have scores attached to them). The output of `explain_instance` is a dictionary that maps each class to two things - the confidence of model and a list of explanations."
   ]
  },
  {
   "cell_type": "code",
   "execution_count": 5,
   "metadata": {},
   "outputs": [
    {
     "name": "stdout",
     "output_type": "stream",
     "text": [
      "{'explanation': [{'feature': '7.17 < LSTAT <= 11.68',\n",
      "                  'score': 2.3211043718179445},\n",
      "                 {'feature': 'PTRATIO <= 17.40', 'score': 0.5885472330074492},\n",
      "                 {'feature': 'RAD=4', 'score': -0.4687921251480069},\n",
      "                 {'feature': 'DIS > 5.10', 'score': -0.5352117675978874},\n",
      "                 {'feature': '6.19 < RM <= 6.63', 'score': -1.399854197466358}],\n",
      " 'prediction': 25.04439999999986}\n"
     ]
    }
   ],
   "source": [
    "exp = explainer.explain_instance(\n",
    "    instance=X_test[1],\n",
    "    top_labels=2,\n",
    "    num_features=5)\n",
    "\n",
    "pprint(exp)"
   ]
  },
  {
   "cell_type": "markdown",
   "metadata": {},
   "source": [
    "### Step 6: Save and load the explainer\n",
    "\n",
    "Finally, every Contextual AI explainer supports saving and loading functions."
   ]
  },
  {
   "cell_type": "code",
   "execution_count": 6,
   "metadata": {},
   "outputs": [],
   "source": [
    "# Save the explainer somewhere\n",
    "\n",
    "explainer.save_explainer('artefacts/lime_tabular_regression.pkl')"
   ]
  },
  {
   "cell_type": "code",
   "execution_count": 7,
   "metadata": {},
   "outputs": [
    {
     "name": "stdout",
     "output_type": "stream",
     "text": [
      "{'explanation': [{'feature': 'DIS <= 2.06', 'score': 1.2463072456971418},\n",
      "                 {'feature': '77.95 < AGE <= 94.15',\n",
      "                  'score': -0.6001661104431496},\n",
      "                 {'feature': 'NOX > 0.64', 'score': -0.7486631874520833},\n",
      "                 {'feature': 'RM <= 5.88', 'score': -3.018462829585109},\n",
      "                 {'feature': 'LSTAT > 17.15', 'score': -6.056198593262318}],\n",
      " 'prediction': 8.738599999999975}\n"
     ]
    }
   ],
   "source": [
    "# Load the saved explainer in a new Explainer instance\n",
    "\n",
    "new_explainer = ExplainerFactory.get_explainer(domain=xai.DOMAIN.TABULAR, algorithm=xai.ALG.LIME)\n",
    "new_explainer.load_explainer('artefacts/lime_tabular_regression.pkl')\n",
    "\n",
    "exp = new_explainer.explain_instance(\n",
    "    instance=X_test[0],\n",
    "    top_labels=2,\n",
    "    num_features=5)\n",
    "\n",
    "pprint(exp)"
   ]
  },
  {
   "cell_type": "markdown",
   "metadata": {},
   "source": [
    "### Step 7: Integration with `xai.model.interpreter.model_interpreter.ModelInterpreter`\n",
    "\n",
    "You can also aggregate explanations across a set of data (e.g. training) by using the `ModelInterpreter` class."
   ]
  },
  {
   "cell_type": "code",
   "execution_count": 8,
   "metadata": {},
   "outputs": [],
   "source": [
    "from xai.model.interpreter.model_interpreter import ModelInterpreter\n",
    "\n",
    "model_interpreter = ModelInterpreter(domain=xai.DOMAIN.TABULAR, \n",
    "                                           algorithm=xai.ALG.LIME)"
   ]
  },
  {
   "cell_type": "code",
   "execution_count": 9,
   "metadata": {},
   "outputs": [
    {
     "name": "stderr",
     "output_type": "stream",
     "text": [
      "../../xai/model/interpreter/model_interpreter.py:83: UserWarning: Interpret 100/404 samples\n",
      "  idx + 1, len(samples)))\n",
      "../../xai/model/interpreter/model_interpreter.py:83: UserWarning: Interpret 200/404 samples\n",
      "  idx + 1, len(samples)))\n",
      "/Users/i330688/venv_xai/lib/python3.6/site-packages/sklearn/linear_model/ridge.py:147: LinAlgWarning: Ill-conditioned matrix (rcond=9.36508e-31): result may not be accurate.\n",
      "  overwrite_a=True).T\n",
      "../../xai/model/interpreter/model_interpreter.py:83: UserWarning: Interpret 300/404 samples\n",
      "  idx + 1, len(samples)))\n",
      "../../xai/model/interpreter/model_interpreter.py:83: UserWarning: Interpret 400/404 samples\n",
      "  idx + 1, len(samples)))\n"
     ]
    },
    {
     "data": {
      "text/plain": [
       "({'NA': {'CHAS <= 0.00': 4.378712871287129,\n",
       "   'ZN <= 0.00': 3.1707920792079207,\n",
       "   'LSTAT <= 7.17': 2.4282178217821784,\n",
       "   'RM > 6.63': 2.405940594059406,\n",
       "   '7.17 < LSTAT <= 11.68': 2.0915841584158414,\n",
       "   '345.00 < TAX <= 666.00': 1.9034653465346534,\n",
       "   '5.00 < RAD <= 24.00': 1.797029702970297,\n",
       "   'DIS <= 2.06': 1.7153465346534653,\n",
       "   '19.10 < PTRATIO <= 20.20': 1.4504950495049505,\n",
       "   'PTRATIO <= 17.40': 1.386138613861386,\n",
       "   'RAD <= 4.00': 1.3787128712871286,\n",
       "   'CRIM > 3.84': 1.3044554455445545,\n",
       "   '44.60 < AGE <= 77.95': 1.2574257425742574,\n",
       "   '9.90 < INDUS <= 18.10': 1.2128712871287128,\n",
       "   '391.19 < B <= 395.81': 1.1707920792079207,\n",
       "   '2.06 < DIS <= 3.10': 1.1336633663366336,\n",
       "   'NOX <= 0.45': 1.1113861386138615,\n",
       "   '5.29 < INDUS <= 9.90': 1.1014851485148516,\n",
       "   '375.47 < B <= 391.19': 1.0891089108910892,\n",
       "   'INDUS <= 5.29': 1.0891089108910892,\n",
       "   'B > 395.81': 1.0866336633663367,\n",
       "   'AGE <= 44.60': 1.0222772277227723,\n",
       "   '0.45 < NOX <= 0.54': 1.0222772277227723,\n",
       "   'AGE > 94.15': 0.9752475247524752,\n",
       "   '17.40 < PTRATIO <= 19.10': 0.9727722772277227,\n",
       "   'B <= 375.47': 0.9727722772277227,\n",
       "   'TAX <= 283.25': 0.943069306930693,\n",
       "   '0.54 < NOX <= 0.64': 0.9381188118811881,\n",
       "   '0.29 < CRIM <= 3.84': 0.9306930693069307,\n",
       "   '283.25 < TAX <= 345.00': 0.9207920792079208,\n",
       "   'ZN > 12.50': 0.9108910891089109,\n",
       "   '4.00 < RAD <= 5.00': 0.8985148514851485,\n",
       "   '0.09 < CRIM <= 0.29': 0.8886138613861386,\n",
       "   '77.95 < AGE <= 94.15': 0.8539603960396039,\n",
       "   'CRIM <= 0.09': 0.8267326732673267,\n",
       "   'NOX > 0.64': 0.8242574257425742,\n",
       "   'DIS > 5.10': 0.806930693069307,\n",
       "   '3.10 < DIS <= 5.10': 0.7920792079207921,\n",
       "   '6.19 < RM <= 6.63': 0.7004950495049505,\n",
       "   '5.88 < RM <= 6.19': 0.5445544554455446,\n",
       "   'INDUS > 18.10': 0.5074257425742574,\n",
       "   'RM <= 5.88': 0.4900990099009901,\n",
       "   '11.68 < LSTAT <= 17.15': 0.46782178217821785,\n",
       "   'PTRATIO > 20.20': 0.37623762376237624,\n",
       "   'CHAS > 0.00': 0.3094059405940594,\n",
       "   'LSTAT > 17.15': 0.25,\n",
       "   '0.00 < ZN <= 12.50': 0.14356435643564355,\n",
       "   'TAX > 666.00': 0.04702970297029703}},\n",
       " 404)"
      ]
     },
     "execution_count": 9,
     "metadata": {},
     "output_type": "execute_result"
    }
   ],
   "source": [
    "model_interpreter.build_interpreter(\n",
    "    training_data=X_train,\n",
    "    training_labels=y_train,\n",
    "    mode=xai.MODE.REGRESSION,\n",
    "    predict_fn=clf.predict,\n",
    "    feature_names=raw_data['feature_names'],\n",
    "    class_names=categorical_features\n",
    ")\n",
    "stats = model_interpreter.interpret_model(samples=X_train, stats_type='average_ranking',k=10)\n",
    "stats"
   ]
  },
  {
   "cell_type": "markdown",
   "metadata": {},
   "source": [
    "The first level of the stats is the class, which in the case of regression is just a dummy class."
   ]
  },
  {
   "cell_type": "code",
   "execution_count": null,
   "metadata": {},
   "outputs": [],
   "source": []
  }
 ],
 "metadata": {
  "kernelspec": {
   "display_name": "Python 3",
   "language": "python",
   "name": "python3"
  },
  "language_info": {
   "codemirror_mode": {
    "name": "ipython",
    "version": 3
   },
   "file_extension": ".py",
   "mimetype": "text/x-python",
   "name": "python",
   "nbconvert_exporter": "python",
   "pygments_lexer": "ipython3",
   "version": "3.6.5"
  }
 },
 "nbformat": 4,
 "nbformat_minor": 4
}
