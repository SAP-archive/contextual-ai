{
 "cells": [
  {
   "cell_type": "markdown",
   "metadata": {},
   "source": [
    "# Generate Model Interpreter Report with Breast Cancer dataset using Contextual AI\n",
    "\n",
    "This notebook demonstrates how to generate explanations report using complier implemented in the Contextual AI library.\n",
    "\n",
    "\n",
    "## Motivation\n",
    "Once the PoC is done (and you know where your data comes from, what it looks like, and what it can predict) comes the ideal next step is to put your model into production and make it useful for the rest of the business.\n",
    "\n",
    "Does it sound familiar? do you also need to answer the questions below, before promoting your model into production:\n",
    "1. _How you sure that your model is ready for production?_\n",
    "2. _How you able to explain the model performance? in business context that non-technical management can understand?_\n",
    "3. _How you able to compare between newly trained models and existing models is done manually every iteration?_\n",
    "\n",
    "In Contextual AI project, our simply vision is to:\n",
    "1. __Speed up data validation__\n",
    "2. __Simplify model engineering__\n",
    "3. __Build trust__  \n",
    "  \n",
    "For more details, please refer to our [whitepaper](https://sap.sharepoint.com/sites/100454/ML_Apps/Shared%20Documents/Reusable%20Components/Explainability/XAI_Whitepaper.pdf?csf=1&e=phIUNN&cid=771297d7-d488-441a-8a65-dab0305c3f04)\n",
    "\n",
    "## Steps\n",
    "1. Create a model to Predict Breast Cancer, using the data provide in [sklearn dataset](https://scikit-learn.org/stable/datasets/index.html)\n",
    "2. Evaluate the model performance with Contextual AI report"
   ]
  },
  {
   "cell_type": "markdown",
   "metadata": {},
   "source": [
    "---"
   ]
  },
  {
   "cell_type": "markdown",
   "metadata": {},
   "source": [
    "### 1. Performance Model Training"
   ]
  },
  {
   "cell_type": "code",
   "execution_count": 1,
   "metadata": {},
   "outputs": [],
   "source": [
    "import warnings\n",
    "\n",
    "from pprint import pprint\n",
    "import numpy as np\n",
    "from sklearn import datasets\n",
    "from sklearn.model_selection import train_test_split\n",
    "from sklearn.ensemble import RandomForestClassifier\n",
    "warnings.filterwarnings(\"ignore\")"
   ]
  },
  {
   "cell_type": "markdown",
   "metadata": {},
   "source": [
    "#### 1.1 Load the dataset and prepare training and test sets"
   ]
  },
  {
   "cell_type": "code",
   "execution_count": 2,
   "metadata": {},
   "outputs": [
    {
     "data": {
      "text/plain": [
       "(455, 30)"
      ]
     },
     "execution_count": 2,
     "metadata": {},
     "output_type": "execute_result"
    }
   ],
   "source": [
    "# Set seed for reproducibility\n",
    "np.random.seed(123456)\n",
    "\n",
    "# Load the dataset and prepare training and test sets\n",
    "raw_data = datasets.load_breast_cancer()\n",
    "X, y = raw_data['data'], raw_data['target']\n",
    "X_train, X_test, y_train, y_test = train_test_split(X, y, test_size=0.2)\n",
    "feature_names = raw_data['feature_names']\n",
    "target_names_list = list(raw_data['target_names'])\n",
    "\n",
    "X_train.shape"
   ]
  },
  {
   "cell_type": "markdown",
   "metadata": {},
   "source": [
    "#### 1.2 ML train a RandomForestClassifier Model"
   ]
  },
  {
   "cell_type": "code",
   "execution_count": 3,
   "metadata": {},
   "outputs": [],
   "source": [
    "# Instantiate a classifier, train, and evaluate on test set\n",
    "clf = RandomForestClassifier()\n",
    "clf.fit(X_train, y_train)\n",
    "clf.score(X_test, y_test)\n",
    "clf_fn = clf.predict_proba"
   ]
  },
  {
   "cell_type": "markdown",
   "metadata": {},
   "source": [
    "---"
   ]
  },
  {
   "cell_type": "markdown",
   "metadata": {},
   "source": [
    "### 2. Involve Contextual AI complier"
   ]
  },
  {
   "cell_type": "code",
   "execution_count": 4,
   "metadata": {},
   "outputs": [],
   "source": [
    "import os\n",
    "import json\n",
    "import sys\n",
    "sys.path.append('../../../')\n",
    "from xai.compiler.base import Configuration, Controller"
   ]
  },
  {
   "cell_type": "markdown",
   "metadata": {},
   "source": [
    "#### 2.1 Specify config file"
   ]
  },
  {
   "cell_type": "code",
   "execution_count": 5,
   "metadata": {},
   "outputs": [],
   "source": [
    "json_config = 'basic-model-interpreter.json'"
   ]
  },
  {
   "cell_type": "markdown",
   "metadata": {},
   "source": [
    "#### 2.2 Load and Check config file (before rendering)"
   ]
  },
  {
   "cell_type": "code",
   "execution_count": 6,
   "metadata": {},
   "outputs": [
    {
     "name": "stdout",
     "output_type": "stream",
     "text": [
      "{'content_table': True,\n",
      " 'contents': [{'desc': 'This section provides the Interpretation of model',\n",
      "               'sections': [{'component': {'_comment': 'refer to document '\n",
      "                                                       'section xxxx',\n",
      "                                           'attr': {'feature_names': 'var:feature_names',\n",
      "                                                    'method': 'default',\n",
      "                                                    'train_data': 'var:X_train',\n",
      "                                                    'trained_model': 'var:clf'},\n",
      "                                           'class': 'FeatureImportanceRanking'},\n",
      "                             'desc': 'This section provides the analysis on '\n",
      "                                     'feature',\n",
      "                             'title': 'Feature Importance Analysis'},\n",
      "                            {'component': {'_comment': 'refer to document '\n",
      "                                                       'section xxxx',\n",
      "                                           'attr': {'domain': 'tabular',\n",
      "                                                    'error_analysis_k_value': 5,\n",
      "                                                    'error_analysis_stats_type': 'average_score',\n",
      "                                                    'error_analysis_top_value': 15,\n",
      "                                                    'feature_names': 'var:feature_names',\n",
      "                                                    'labels': 'var:y_train',\n",
      "                                                    'method': 'lime',\n",
      "                                                    'mode': 'classification',\n",
      "                                                    'model_interpret_k_value': 5,\n",
      "                                                    'model_interpret_stats_type': 'top_k',\n",
      "                                                    'model_interpret_top_value': 15,\n",
      "                                                    'num_of_class': 2,\n",
      "                                                    'predict_func': 'var:clf_fn',\n",
      "                                                    'target_names': 'var:target_names_list',\n",
      "                                                    'train_data': 'var:X_train',\n",
      "                                                    'valid_x': 'var:X_test',\n",
      "                                                    'valid_y': 'var:y_test'},\n",
      "                                           'class': 'ModelInterpreter'},\n",
      "                             'desc': 'Model and train data from Breast Cancer',\n",
      "                             'title': 'Model Interpreter Analysis '}],\n",
      "               'title': 'Model Interpreter with Breast Cancer data-set'}],\n",
      " 'name': 'Report for Breast Cancer Model Interpreter',\n",
      " 'overview': True,\n",
      " 'writers': [{'attr': {'name': 'breastcancer-model-interpreter-report'},\n",
      "              'class': 'Pdf'}]}\n"
     ]
    }
   ],
   "source": [
    "with open(json_config) as file:\n",
    "    config = json.load(file)\n",
    "config\n",
    "pprint(config)"
   ]
  },
  {
   "cell_type": "markdown",
   "metadata": {},
   "source": [
    "#### 2.3  Initial compiler controller with config - withe locals()"
   ]
  },
  {
   "cell_type": "code",
   "execution_count": 7,
   "metadata": {},
   "outputs": [
    {
     "name": "stdout",
     "output_type": "stream",
     "text": [
      "{'content_table': True,\n",
      " 'contents': [{'desc': 'This section provides the Interpretation of model',\n",
      "               'sections': [{'component': {'_comment': 'refer to document '\n",
      "                                                       'section xxxx',\n",
      "                                           'attr': {'feature_names': array(['mean radius', 'mean texture', 'mean perimeter', 'mean area',\n",
      "       'mean smoothness', 'mean compactness', 'mean concavity',\n",
      "       'mean concave points', 'mean symmetry', 'mean fractal dimension',\n",
      "       'radius error', 'texture error', 'perimeter error', 'area error',\n",
      "       'smoothness error', 'compactness error', 'concavity error',\n",
      "       'concave points error', 'symmetry error',\n",
      "       'fractal dimension error', 'worst radius', 'worst texture',\n",
      "       'worst perimeter', 'worst area', 'worst smoothness',\n",
      "       'worst compactness', 'worst concavity', 'worst concave points',\n",
      "       'worst symmetry', 'worst fractal dimension'], dtype='<U23'),\n",
      "                                                    'method': 'default',\n",
      "                                                    'train_data': array([[1.462e+01, 2.402e+01, 9.457e+01, ..., 6.946e-02, 2.522e-01,\n",
      "        7.246e-02],\n",
      "       [1.729e+01, 2.213e+01, 1.144e+02, ..., 1.528e-01, 3.067e-01,\n",
      "        7.484e-02],\n",
      "       [9.777e+00, 1.699e+01, 6.250e+01, ..., 5.334e-02, 2.533e-01,\n",
      "        8.468e-02],\n",
      "       ...,\n",
      "       [1.349e+01, 2.230e+01, 8.691e+01, ..., 1.282e-01, 2.871e-01,\n",
      "        6.917e-02],\n",
      "       [1.849e+01, 1.752e+01, 1.213e+02, ..., 1.663e-01, 2.510e-01,\n",
      "        9.445e-02],\n",
      "       [1.478e+01, 2.394e+01, 9.740e+01, ..., 1.614e-01, 3.321e-01,\n",
      "        8.911e-02]]),\n",
      "                                                    'trained_model': RandomForestClassifier(bootstrap=True, class_weight=None, criterion='gini',\n",
      "                       max_depth=None, max_features='auto', max_leaf_nodes=None,\n",
      "                       min_impurity_decrease=0.0, min_impurity_split=None,\n",
      "                       min_samples_leaf=1, min_samples_split=2,\n",
      "                       min_weight_fraction_leaf=0.0, n_estimators=10,\n",
      "                       n_jobs=None, oob_score=False, random_state=None,\n",
      "                       verbose=0, warm_start=False)},\n",
      "                                           'class': 'FeatureImportanceRanking'},\n",
      "                             'desc': 'This section provides the analysis on '\n",
      "                                     'feature',\n",
      "                             'title': 'Feature Importance Analysis'},\n",
      "                            {'component': {'_comment': 'refer to document '\n",
      "                                                       'section xxxx',\n",
      "                                           'attr': {'domain': 'tabular',\n",
      "                                                    'error_analysis_k_value': 5,\n",
      "                                                    'error_analysis_stats_type': 'average_score',\n",
      "                                                    'error_analysis_top_value': 15,\n",
      "                                                    'feature_names': array(['mean radius', 'mean texture', 'mean perimeter', 'mean area',\n",
      "       'mean smoothness', 'mean compactness', 'mean concavity',\n",
      "       'mean concave points', 'mean symmetry', 'mean fractal dimension',\n",
      "       'radius error', 'texture error', 'perimeter error', 'area error',\n",
      "       'smoothness error', 'compactness error', 'concavity error',\n",
      "       'concave points error', 'symmetry error',\n",
      "       'fractal dimension error', 'worst radius', 'worst texture',\n",
      "       'worst perimeter', 'worst area', 'worst smoothness',\n",
      "       'worst compactness', 'worst concavity', 'worst concave points',\n",
      "       'worst symmetry', 'worst fractal dimension'], dtype='<U23'),\n",
      "                                                    'labels': array([1, 0, 1, 0, 1, 1, 1, 1, 1, 0, 1, 1, 1, 0, 0, 1, 1, 0, 0, 1, 0, 1,\n",
      "       1, 0, 0, 0, 0, 1, 1, 1, 1, 1, 0, 1, 1, 0, 1, 1, 0, 0, 1, 1, 1, 1,\n",
      "       1, 1, 1, 1, 1, 0, 1, 1, 1, 0, 1, 1, 1, 0, 1, 0, 0, 1, 1, 1, 1, 1,\n",
      "       0, 1, 0, 1, 1, 1, 1, 1, 1, 1, 0, 0, 0, 1, 1, 1, 1, 1, 1, 0, 1, 0,\n",
      "       0, 1, 0, 0, 0, 0, 0, 0, 1, 1, 1, 1, 1, 0, 0, 1, 0, 0, 1, 1, 0, 1,\n",
      "       1, 0, 1, 1, 1, 1, 1, 1, 1, 0, 0, 0, 1, 1, 1, 0, 1, 1, 1, 1, 1, 1,\n",
      "       1, 1, 0, 0, 1, 0, 1, 0, 1, 1, 1, 1, 1, 1, 1, 1, 1, 0, 1, 1, 0, 0,\n",
      "       1, 0, 0, 0, 1, 1, 0, 0, 0, 0, 1, 1, 1, 1, 1, 1, 1, 1, 1, 1, 1, 1,\n",
      "       1, 1, 1, 0, 0, 1, 1, 1, 1, 0, 1, 0, 0, 0, 1, 1, 1, 0, 0, 0, 1, 0,\n",
      "       0, 0, 1, 0, 0, 1, 1, 1, 0, 0, 0, 1, 0, 1, 1, 1, 1, 0, 0, 1, 0, 1,\n",
      "       1, 0, 1, 1, 0, 1, 1, 1, 0, 1, 1, 0, 1, 1, 0, 0, 0, 1, 0, 1, 1, 1,\n",
      "       0, 0, 0, 1, 0, 0, 1, 1, 1, 1, 0, 1, 1, 1, 0, 0, 1, 1, 1, 0, 1, 1,\n",
      "       1, 1, 1, 1, 1, 1, 0, 0, 1, 1, 0, 1, 1, 0, 0, 0, 1, 0, 1, 1, 0, 1,\n",
      "       0, 1, 1, 0, 1, 1, 1, 0, 1, 0, 1, 1, 0, 1, 0, 1, 1, 0, 0, 1, 0, 1,\n",
      "       0, 1, 0, 1, 0, 1, 1, 1, 1, 1, 1, 1, 0, 0, 1, 0, 0, 1, 1, 0, 0, 0,\n",
      "       1, 1, 1, 0, 1, 0, 0, 1, 0, 1, 1, 0, 0, 0, 1, 0, 1, 0, 1, 1, 1, 1,\n",
      "       0, 1, 1, 1, 1, 1, 1, 1, 1, 1, 1, 0, 1, 0, 0, 1, 1, 0, 0, 1, 1, 1,\n",
      "       1, 1, 1, 0, 1, 0, 1, 1, 0, 0, 1, 0, 0, 0, 0, 1, 1, 1, 1, 1, 0, 0,\n",
      "       1, 1, 1, 1, 1, 0, 1, 0, 0, 0, 1, 1, 1, 1, 1, 1, 1, 0, 1, 0, 1, 1,\n",
      "       1, 1, 1, 0, 0, 1, 1, 0, 1, 1, 1, 0, 0, 1, 1, 0, 1, 1, 0, 0, 1, 0,\n",
      "       1, 1, 1, 1, 1, 1, 1, 1, 0, 0, 1, 0, 1, 0, 0]),\n",
      "                                                    'method': 'lime',\n",
      "                                                    'mode': 'classification',\n",
      "                                                    'model_interpret_k_value': 5,\n",
      "                                                    'model_interpret_stats_type': 'top_k',\n",
      "                                                    'model_interpret_top_value': 15,\n",
      "                                                    'num_of_class': 2,\n",
      "                                                    'predict_func': <bound method ForestClassifier.predict_proba of RandomForestClassifier(bootstrap=True, class_weight=None, criterion='gini',\n",
      "                       max_depth=None, max_features='auto', max_leaf_nodes=None,\n",
      "                       min_impurity_decrease=0.0, min_impurity_split=None,\n",
      "                       min_samples_leaf=1, min_samples_split=2,\n",
      "                       min_weight_fraction_leaf=0.0, n_estimators=10,\n",
      "                       n_jobs=None, oob_score=False, random_state=None,\n",
      "                       verbose=0, warm_start=False)>,\n",
      "                                                    'target_names': ['malignant',\n",
      "                                                                     'benign'],\n",
      "                                                    'train_data': array([[1.462e+01, 2.402e+01, 9.457e+01, ..., 6.946e-02, 2.522e-01,\n",
      "        7.246e-02],\n",
      "       [1.729e+01, 2.213e+01, 1.144e+02, ..., 1.528e-01, 3.067e-01,\n",
      "        7.484e-02],\n",
      "       [9.777e+00, 1.699e+01, 6.250e+01, ..., 5.334e-02, 2.533e-01,\n",
      "        8.468e-02],\n",
      "       ...,\n",
      "       [1.349e+01, 2.230e+01, 8.691e+01, ..., 1.282e-01, 2.871e-01,\n",
      "        6.917e-02],\n",
      "       [1.849e+01, 1.752e+01, 1.213e+02, ..., 1.663e-01, 2.510e-01,\n",
      "        9.445e-02],\n",
      "       [1.478e+01, 2.394e+01, 9.740e+01, ..., 1.614e-01, 3.321e-01,\n",
      "        8.911e-02]]),\n",
      "                                                    'valid_x': array([[9.738e+00, 1.197e+01, 6.124e+01, ..., 0.000e+00, 3.105e-01,\n",
      "        8.151e-02],\n",
      "       [1.578e+01, 2.291e+01, 1.057e+02, ..., 2.034e-01, 3.274e-01,\n",
      "        1.252e-01],\n",
      "       [1.369e+01, 1.607e+01, 8.784e+01, ..., 6.987e-02, 3.323e-01,\n",
      "        7.701e-02],\n",
      "       ...,\n",
      "       [1.289e+01, 1.570e+01, 8.408e+01, ..., 1.017e-01, 1.999e-01,\n",
      "        7.127e-02],\n",
      "       [1.902e+01, 2.459e+01, 1.220e+02, ..., 1.956e-01, 3.956e-01,\n",
      "        9.288e-02],\n",
      "       [1.375e+01, 2.377e+01, 8.854e+01, ..., 6.106e-02, 2.663e-01,\n",
      "        6.321e-02]]),\n",
      "                                                    'valid_y': array([1, 0, 1, 1, 0, 1, 0, 1, 1, 1, 0, 0, 1, 1, 1, 1, 1, 1, 1, 0, 1, 0,\n",
      "       0, 0, 1, 0, 0, 1, 1, 1, 0, 1, 0, 0, 0, 1, 1, 0, 1, 1, 1, 1, 1, 0,\n",
      "       0, 1, 0, 1, 1, 1, 0, 1, 1, 1, 1, 1, 1, 1, 1, 1, 0, 1, 1, 1, 1, 1,\n",
      "       1, 0, 1, 0, 0, 0, 1, 0, 1, 0, 0, 1, 1, 0, 1, 1, 1, 1, 0, 1, 1, 1,\n",
      "       0, 0, 1, 1, 1, 0, 1, 1, 0, 1, 1, 0, 0, 1, 0, 0, 1, 1, 0, 1, 0, 0,\n",
      "       0, 1, 0, 1])},\n",
      "                                           'class': 'ModelInterpreter'},\n",
      "                             'desc': 'Model and train data from Breast Cancer',\n",
      "                             'title': 'Model Interpreter Analysis '}],\n",
      "               'title': 'Model Interpreter with Breast Cancer data-set'}],\n",
      " 'name': 'Report for Breast Cancer Model Interpreter',\n",
      " 'overview': True,\n",
      " 'writers': [{'attr': {'name': 'breastcancer-model-interpreter-report'},\n",
      "              'class': 'Pdf'}]}\n"
     ]
    }
   ],
   "source": [
    "controller = Controller(config=Configuration(config, locals()))\n",
    "pprint(controller.config)"
   ]
  },
  {
   "cell_type": "markdown",
   "metadata": {},
   "source": [
    "#### 2.4 Render report"
   ]
  },
  {
   "cell_type": "code",
   "execution_count": 8,
   "metadata": {},
   "outputs": [],
   "source": [
    "controller.render()"
   ]
  },
  {
   "cell_type": "markdown",
   "metadata": {},
   "source": [
    "### Results"
   ]
  },
  {
   "cell_type": "code",
   "execution_count": 9,
   "metadata": {},
   "outputs": [
    {
     "name": "stdout",
     "output_type": "stream",
     "text": [
      "('report generated : '\n",
      " '/Users/i062308/Development/Explainable_AI/tutorials/compiler/breastcancer/breastcancer-model-interpreter-report.pdf')\n"
     ]
    }
   ],
   "source": [
    "pprint(\"report generated : %s/breastcancer-model-interpreter-report.pdf\" % os.getcwd())"
   ]
  },
  {
   "cell_type": "code",
   "execution_count": null,
   "metadata": {},
   "outputs": [],
   "source": []
  }
 ],
 "metadata": {
  "kernelspec": {
   "display_name": "local-venv",
   "language": "python",
   "name": "local-venv"
  },
  "language_info": {
   "codemirror_mode": {
    "name": "ipython",
    "version": 3
   },
   "file_extension": ".py",
   "mimetype": "text/x-python",
   "name": "python",
   "nbconvert_exporter": "python",
   "pygments_lexer": "ipython3",
   "version": "3.7.6"
  }
 },
 "nbformat": 4,
 "nbformat_minor": 4
}
