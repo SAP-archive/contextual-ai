{
 "cells": [
  {
   "cell_type": "markdown",
   "metadata": {},
   "source": [
    "# Generate Model Interpreter Report with House Price dataset using Contextual AI\n",
    "\n",
    "This notebook demonstrates how to generate explanations report using complier implemented in the Contextual AI library.\n",
    "\n",
    "\n",
    "## Motivation\n",
    "Once the PoC is done (and you know where your data comes from, what it looks like, and what it can predict) comes the ideal next step is to put your model into production and make it useful for the rest of the business.\n",
    "\n",
    "Does it sound familiar? do you also need to answer the questions below, before promoting your model into production:\n",
    "1. _How you sure that your model is ready for production?_\n",
    "2. _How you able to explain the model performance? in business context that non-technical management can understand?_\n",
    "3. _How you able to compare between newly trained models and existing models is done manually every iteration?_\n",
    "\n",
    "In Contextual AI project, our simply vision is to:\n",
    "1. __Speed up data validation__\n",
    "2. __Simplify model engineering__\n",
    "3. __Build trust__  \n",
    "  \n",
    "For more details, please refer to our [whitepaper](https://sap.sharepoint.com/sites/100454/ML_Apps/Shared%20Documents/Reusable%20Components/Explainability/XAI_Whitepaper.pdf?csf=1&e=phIUNN&cid=771297d7-d488-441a-8a65-dab0305c3f04)\n",
    "\n",
    "\n",
    "## Steps\n",
    "1. Create a model to Predict House Price, using the data provide in [house prices dataset](https://www.kaggle.com/c/house-prices-advanced-regression-techniques/data)\n",
    "2. Evaluate the model performance with Contextual AI report\n",
    "\n",
    "## Credits\n",
    "1. Pramodh, Manduri <manduri.pramodh@sap.com>"
   ]
  },
  {
   "cell_type": "markdown",
   "metadata": {},
   "source": [
    "### 1. Performance Model Training"
   ]
  },
  {
   "cell_type": "code",
   "execution_count": 1,
   "metadata": {},
   "outputs": [],
   "source": [
    "import warnings\n",
    "\n",
    "from pprint import pprint\n",
    "import numpy as np\n",
    "import pandas as pd\n",
    "from sklearn.model_selection import train_test_split\n",
    "from sklearn.impute import SimpleImputer\n",
    "from xgboost import XGBRegressor"
   ]
  },
  {
   "cell_type": "markdown",
   "metadata": {},
   "source": [
    "#### 1.1. Loading Data and XGB-Model"
   ]
  },
  {
   "cell_type": "code",
   "execution_count": 2,
   "metadata": {
    "_cell_guid": "b1076dfc-b9ad-4769-8c92-a6c4dae69d19",
    "_uuid": "8f2839f25d086af736a60e9eeb907d3b93b6e0e5"
   },
   "outputs": [
    {
     "name": "stdout",
     "output_type": "stream",
     "text": [
      "[0]\tvalidation_0-rmse:84841.5\n",
      "Will train until validation_0-rmse hasn't improved in 5 rounds.\n",
      "Stopping. Best iteration:\n",
      "[83]\tvalidation_0-rmse:32717.3\n",
      "\n"
     ]
    }
   ],
   "source": [
    "data = pd.read_csv('train.csv')\n",
    "data.dropna(axis=0, subset=['SalePrice'], inplace=True)\n",
    "y = data.SalePrice\n",
    "\n",
    "X = data.drop(['SalePrice', 'Id'], axis=1).select_dtypes(exclude=['object'])\n",
    "train_X, test_X, train_y, test_y = train_test_split(X.values, y.values, test_size=0.25)\n",
    "\n",
    "my_imputer = SimpleImputer()\n",
    "train_X = my_imputer.fit_transform(train_X)\n",
    "test_X = my_imputer.transform(test_X)\n",
    "\n",
    "my_model = XGBRegressor(n_estimators=1000, \n",
    "                        max_depth=5, \n",
    "                        learning_rate=0.1, \n",
    "                        subsample=0.7, \n",
    "                        colsample_bytree=0.8, \n",
    "                        colsample_bylevel=0.8, \n",
    "                        base_score=train_y.mean(), \n",
    "                        random_state=42, seed=42)\n",
    "hist = my_model.fit(train_X, train_y, \n",
    "                    early_stopping_rounds=5, \n",
    "                    eval_set=[(test_X, test_y)], eval_metric='rmse', \n",
    "                    verbose=100)"
   ]
  },
  {
   "cell_type": "markdown",
   "metadata": {},
   "source": [
    "#### 1.2. Review Best and Worse Predictions"
   ]
  },
  {
   "cell_type": "code",
   "execution_count": 3,
   "metadata": {},
   "outputs": [
    {
     "name": "stdout",
     "output_type": "stream",
     "text": [
      "          worse\n",
      "0  132400.50000\n",
      "1 -151484.84375\n",
      "2 -165463.31250\n",
      "3 -198485.50000\n",
      "4 -260265.15625\n",
      "\n",
      "         best\n",
      "0   20.539062\n",
      "1   53.296875\n",
      "2   79.406250\n",
      "3 -107.562500\n",
      "4 -113.671875\n"
     ]
    }
   ],
   "source": [
    "test_pred = my_model.predict(test_X)\n",
    "errors = test_pred - test_y\n",
    "sorted_errors = np.argsort(abs(errors))\n",
    "worse_5 = sorted_errors[-5:]\n",
    "best_5 = sorted_errors[:5]\n",
    "\n",
    "print(pd.DataFrame({'worse':errors[worse_5]}))\n",
    "print()\n",
    "print(pd.DataFrame({'best':errors[best_5]}))"
   ]
  },
  {
   "cell_type": "markdown",
   "metadata": {},
   "source": [
    "#### 1.3. Perform LIME (Local Interpretable Model-Agnostic Explanations)"
   ]
  },
  {
   "cell_type": "code",
   "execution_count": 4,
   "metadata": {},
   "outputs": [],
   "source": [
    "import lime\n",
    "import lime.lime_tabular\n",
    "explainer = lime.lime_tabular.LimeTabularExplainer(train_X, feature_names=X.columns, class_names=['SalePrice'], verbose=True, mode='regression')"
   ]
  },
  {
   "cell_type": "markdown",
   "metadata": {},
   "source": [
    "##### Explaining a few worse predictions:"
   ]
  },
  {
   "cell_type": "code",
   "execution_count": 5,
   "metadata": {},
   "outputs": [],
   "source": [
    "type(train_X)\n",
    "X.columns.tolist()\n",
    "import pandas as pd\n",
    "df1 = pd.DataFrame(data =train_X, columns=  X.columns.tolist())\n",
    "#train_y.tolist()\n",
    "#X.columns.tolist()"
   ]
  },
  {
   "cell_type": "code",
   "execution_count": 6,
   "metadata": {
    "scrolled": true
   },
   "outputs": [
    {
     "name": "stdout",
     "output_type": "stream",
     "text": [
      "['SalePrice']\n"
     ]
    }
   ],
   "source": [
    "X_train = df1\n",
    "clf = my_model\n",
    "clf_fn = my_model.predict\n",
    "y_train = []\n",
    "feature_names=X.columns.tolist()\n",
    "target_names_list =['SalePrice']\n",
    "pprint(target_names_list)"
   ]
  },
  {
   "cell_type": "markdown",
   "metadata": {},
   "source": [
    "### 2. Involve Contextual AI complier"
   ]
  },
  {
   "cell_type": "code",
   "execution_count": 7,
   "metadata": {},
   "outputs": [
    {
     "name": "stderr",
     "output_type": "stream",
     "text": [
      "The sklearn.metrics.classification module is  deprecated in version 0.22 and will be removed in version 0.24. The corresponding classes / functions should instead be imported from sklearn.metrics. Anything that cannot be imported from sklearn.metrics is now part of the private API.\n"
     ]
    }
   ],
   "source": [
    "import os\n",
    "import json\n",
    "import sys\n",
    "sys.path.append('../../../')\n",
    "from xai.compiler.base import Configuration, Controller"
   ]
  },
  {
   "cell_type": "markdown",
   "metadata": {},
   "source": [
    "#### 2.1 Specify config file"
   ]
  },
  {
   "cell_type": "code",
   "execution_count": 8,
   "metadata": {},
   "outputs": [],
   "source": [
    "json_config = 'lime-tabular-regressor-model-interpreter.json'"
   ]
  },
  {
   "cell_type": "markdown",
   "metadata": {},
   "source": [
    "#### 2.2 Load and Check config file (before rendering)"
   ]
  },
  {
   "cell_type": "code",
   "execution_count": 9,
   "metadata": {},
   "outputs": [
    {
     "name": "stdout",
     "output_type": "stream",
     "text": [
      "{'content_table': True,\n",
      " 'contents': [{'desc': 'This section provides the Interpretation of model',\n",
      "               'sections': [{'component': {'_comment': 'refer to document '\n",
      "                                                       'section xxxx',\n",
      "                                           'attr': {'domain': 'tabular',\n",
      "                                                    'error_analysis_k_value': 5,\n",
      "                                                    'error_analysis_stats_type': 'average_score',\n",
      "                                                    'error_analysis_top_value': 15,\n",
      "                                                    'feature_names': 'var:feature_names',\n",
      "                                                    'method': 'lime',\n",
      "                                                    'mode': 'regression',\n",
      "                                                    'model_interpret_k_value': 5,\n",
      "                                                    'model_interpret_stats_type': 'top_k',\n",
      "                                                    'model_interpret_top_value': 15,\n",
      "                                                    'predict_func': 'var:clf_fn',\n",
      "                                                    'target_names': 'var:target_names_list',\n",
      "                                                    'train_data': 'var:X_train',\n",
      "                                                    'valid_x': 'var:X_test',\n",
      "                                                    'valid_y': 'var:y_test'},\n",
      "                                           'class': 'ModelInterpreter'},\n",
      "                             'desc': 'Model and train data from Breast Cancer',\n",
      "                             'title': 'Model Interpreter Analysis '},\n",
      "                            {'component': {'_comment': 'refer to document '\n",
      "                                                       'section xxxx',\n",
      "                                           'attr': {'feature_names': 'var:feature_names',\n",
      "                                                    'method': 'shap',\n",
      "                                                    'mode': 'regression',\n",
      "                                                    'train_data': 'var:X_train',\n",
      "                                                    'trained_model': 'var:clf'},\n",
      "                                           'class': 'FeatureImportanceRanking'},\n",
      "                             'desc': 'This section provides the analysis on '\n",
      "                                     'feature',\n",
      "                             'title': 'Feature Importance Analysis'}],\n",
      "               'title': 'Model Interpreter '}],\n",
      " 'name': 'Report for Advanced Housing Price Regression',\n",
      " 'overview': True,\n",
      " 'writers': [{'attr': {'name': 'housingprices-regression-model-interpreter-report'},\n",
      "              'class': 'Pdf'}]}\n"
     ]
    }
   ],
   "source": [
    "with open(json_config) as file:\n",
    "    config = json.load(file)\n",
    "config\n",
    "pprint(config)"
   ]
  },
  {
   "cell_type": "markdown",
   "metadata": {},
   "source": [
    "#### 2.3  Initial compiler controller with config - withe locals()"
   ]
  },
  {
   "cell_type": "code",
   "execution_count": 10,
   "metadata": {},
   "outputs": [
    {
     "name": "stdout",
     "output_type": "stream",
     "text": [
      "{'content_table': True,\n",
      " 'contents': [{'desc': 'This section provides the Interpretation of model',\n",
      "               'sections': [{'component': {'_comment': 'refer to document '\n",
      "                                                       'section xxxx',\n",
      "                                           'attr': {'domain': 'tabular',\n",
      "                                                    'error_analysis_k_value': 5,\n",
      "                                                    'error_analysis_stats_type': 'average_score',\n",
      "                                                    'error_analysis_top_value': 15,\n",
      "                                                    'feature_names': ['MSSubClass',\n",
      "                                                                      'LotFrontage',\n",
      "                                                                      'LotArea',\n",
      "                                                                      'OverallQual',\n",
      "                                                                      'OverallCond',\n",
      "                                                                      'YearBuilt',\n",
      "                                                                      'YearRemodAdd',\n",
      "                                                                      'MasVnrArea',\n",
      "                                                                      'BsmtFinSF1',\n",
      "                                                                      'BsmtFinSF2',\n",
      "                                                                      'BsmtUnfSF',\n",
      "                                                                      'TotalBsmtSF',\n",
      "                                                                      '1stFlrSF',\n",
      "                                                                      '2ndFlrSF',\n",
      "                                                                      'LowQualFinSF',\n",
      "                                                                      'GrLivArea',\n",
      "                                                                      'BsmtFullBath',\n",
      "                                                                      'BsmtHalfBath',\n",
      "                                                                      'FullBath',\n",
      "                                                                      'HalfBath',\n",
      "                                                                      'BedroomAbvGr',\n",
      "                                                                      'KitchenAbvGr',\n",
      "                                                                      'TotRmsAbvGrd',\n",
      "                                                                      'Fireplaces',\n",
      "                                                                      'GarageYrBlt',\n",
      "                                                                      'GarageCars',\n",
      "                                                                      'GarageArea',\n",
      "                                                                      'WoodDeckSF',\n",
      "                                                                      'OpenPorchSF',\n",
      "                                                                      'EnclosedPorch',\n",
      "                                                                      '3SsnPorch',\n",
      "                                                                      'ScreenPorch',\n",
      "                                                                      'PoolArea',\n",
      "                                                                      'MiscVal',\n",
      "                                                                      'MoSold',\n",
      "                                                                      'YrSold'],\n",
      "                                                    'method': 'lime',\n",
      "                                                    'mode': 'regression',\n",
      "                                                    'model_interpret_k_value': 5,\n",
      "                                                    'model_interpret_stats_type': 'top_k',\n",
      "                                                    'model_interpret_top_value': 15,\n",
      "                                                    'predict_func': <bound method XGBModel.predict of XGBRegressor(base_score=178212.72511415524, booster='gbtree',\n",
      "             colsample_bylevel=0.8, colsample_bytree=0.8, gamma=0,\n",
      "             learning_rate=0.1, max_delta_step=0, max_depth=5,\n",
      "             min_child_weight=1, missing=None, n_estimators=1000, n_jobs=1,\n",
      "             nthread=None, objective='reg:linear', random_state=42, reg_alpha=0,\n",
      "             reg_lambda=1, scale_pos_weight=1, seed=42, silent=True,\n",
      "             subsample=0.7)>,\n",
      "                                                    'target_names': ['SalePrice'],\n",
      "                                                    'train_data':       MSSubClass  LotFrontage  LotArea  OverallQual  OverallCond  YearBuilt  \\\n",
      "0           80.0         55.0  10780.0          5.0          5.0     1976.0   \n",
      "1           70.0         75.0  13125.0          7.0          6.0     1940.0   \n",
      "2           60.0         86.0  10380.0          7.0          5.0     1986.0   \n",
      "3           30.0         60.0   7200.0          5.0          4.0     1910.0   \n",
      "4           50.0         70.0   8737.0          6.0          7.0     1923.0   \n",
      "...          ...          ...      ...          ...          ...        ...   \n",
      "1090       160.0         36.0   2592.0          5.0          3.0     1976.0   \n",
      "1091        80.0        102.0  10192.0          7.0          6.0     1968.0   \n",
      "1092       120.0         55.0   7892.0          6.0          5.0     1993.0   \n",
      "1093        70.0         60.0   9084.0          4.0          5.0     1940.0   \n",
      "1094        90.0         60.0   7596.0          5.0          5.0     1952.0   \n",
      "\n",
      "      YearRemodAdd  MasVnrArea  BsmtFinSF1  BsmtFinSF2  ...  GarageArea  \\\n",
      "0           1976.0         0.0       483.0         0.0  ...       576.0   \n",
      "1           1984.0         0.0       410.0         0.0  ...       240.0   \n",
      "2           1987.0       172.0        28.0      1474.0  ...       576.0   \n",
      "3           2006.0         0.0       247.0       465.0  ...       280.0   \n",
      "4           1950.0         0.0       300.0         0.0  ...       440.0   \n",
      "...            ...         ...         ...         ...  ...         ...   \n",
      "1090        1976.0         0.0       129.0       232.0  ...       336.0   \n",
      "1091        1992.0       143.0         0.0         0.0  ...       487.0   \n",
      "1092        1993.0         0.0       300.0         0.0  ...       530.0   \n",
      "1093        1950.0         0.0         0.0         0.0  ...       296.0   \n",
      "1094        1952.0       360.0         0.0         0.0  ...       400.0   \n",
      "\n",
      "      WoodDeckSF  OpenPorchSF  EnclosedPorch  3SsnPorch  ScreenPorch  \\\n",
      "0            0.0          0.0            0.0        0.0          0.0   \n",
      "1            0.0          0.0            0.0        0.0          0.0   \n",
      "2          201.0         96.0            0.0        0.0          0.0   \n",
      "3            0.0         30.0          226.0        0.0          0.0   \n",
      "4            0.0         38.0            0.0      144.0          0.0   \n",
      "...          ...          ...            ...        ...          ...   \n",
      "1090       182.0          0.0            0.0        0.0          0.0   \n",
      "1091         0.0         98.0            0.0        0.0          0.0   \n",
      "1092         0.0         63.0            0.0        0.0          0.0   \n",
      "1093       120.0          0.0            0.0        0.0          0.0   \n",
      "1094         0.0          0.0            0.0        0.0          0.0   \n",
      "\n",
      "      PoolArea  MiscVal  MoSold  YrSold  \n",
      "0          0.0      0.0     7.0  2006.0  \n",
      "1          0.0      0.0     7.0  2007.0  \n",
      "2          0.0      0.0     8.0  2007.0  \n",
      "3          0.0      0.0     6.0  2009.0  \n",
      "4          0.0      0.0     5.0  2007.0  \n",
      "...        ...      ...     ...     ...  \n",
      "1090       0.0      0.0     4.0  2010.0  \n",
      "1091       0.0      0.0     9.0  2006.0  \n",
      "1092       0.0      0.0     3.0  2008.0  \n",
      "1093       0.0      0.0    10.0  2009.0  \n",
      "1094       0.0      0.0     7.0  2009.0  \n",
      "\n",
      "[1095 rows x 36 columns],\n",
      "                                                    'valid_x': 'var:X_test',\n",
      "                                                    'valid_y': 'var:y_test'},\n",
      "                                           'class': 'ModelInterpreter'},\n",
      "                             'desc': 'Model and train data from Breast Cancer',\n",
      "                             'title': 'Model Interpreter Analysis '},\n",
      "                            {'component': {'_comment': 'refer to document '\n",
      "                                                       'section xxxx',\n",
      "                                           'attr': {'feature_names': ['MSSubClass',\n",
      "                                                                      'LotFrontage',\n",
      "                                                                      'LotArea',\n",
      "                                                                      'OverallQual',\n",
      "                                                                      'OverallCond',\n",
      "                                                                      'YearBuilt',\n",
      "                                                                      'YearRemodAdd',\n",
      "                                                                      'MasVnrArea',\n",
      "                                                                      'BsmtFinSF1',\n",
      "                                                                      'BsmtFinSF2',\n",
      "                                                                      'BsmtUnfSF',\n",
      "                                                                      'TotalBsmtSF',\n",
      "                                                                      '1stFlrSF',\n",
      "                                                                      '2ndFlrSF',\n",
      "                                                                      'LowQualFinSF',\n",
      "                                                                      'GrLivArea',\n",
      "                                                                      'BsmtFullBath',\n",
      "                                                                      'BsmtHalfBath',\n",
      "                                                                      'FullBath',\n",
      "                                                                      'HalfBath',\n",
      "                                                                      'BedroomAbvGr',\n",
      "                                                                      'KitchenAbvGr',\n",
      "                                                                      'TotRmsAbvGrd',\n",
      "                                                                      'Fireplaces',\n",
      "                                                                      'GarageYrBlt',\n",
      "                                                                      'GarageCars',\n",
      "                                                                      'GarageArea',\n",
      "                                                                      'WoodDeckSF',\n",
      "                                                                      'OpenPorchSF',\n",
      "                                                                      'EnclosedPorch',\n",
      "                                                                      '3SsnPorch',\n",
      "                                                                      'ScreenPorch',\n",
      "                                                                      'PoolArea',\n",
      "                                                                      'MiscVal',\n",
      "                                                                      'MoSold',\n",
      "                                                                      'YrSold'],\n"
     ]
    },
    {
     "name": "stdout",
     "output_type": "stream",
     "text": [
      "                                                    'method': 'shap',\n",
      "                                                    'mode': 'regression',\n",
      "                                                    'train_data':       MSSubClass  LotFrontage  LotArea  OverallQual  OverallCond  YearBuilt  \\\n",
      "0           80.0         55.0  10780.0          5.0          5.0     1976.0   \n",
      "1           70.0         75.0  13125.0          7.0          6.0     1940.0   \n",
      "2           60.0         86.0  10380.0          7.0          5.0     1986.0   \n",
      "3           30.0         60.0   7200.0          5.0          4.0     1910.0   \n",
      "4           50.0         70.0   8737.0          6.0          7.0     1923.0   \n",
      "...          ...          ...      ...          ...          ...        ...   \n",
      "1090       160.0         36.0   2592.0          5.0          3.0     1976.0   \n",
      "1091        80.0        102.0  10192.0          7.0          6.0     1968.0   \n",
      "1092       120.0         55.0   7892.0          6.0          5.0     1993.0   \n",
      "1093        70.0         60.0   9084.0          4.0          5.0     1940.0   \n",
      "1094        90.0         60.0   7596.0          5.0          5.0     1952.0   \n",
      "\n",
      "      YearRemodAdd  MasVnrArea  BsmtFinSF1  BsmtFinSF2  ...  GarageArea  \\\n",
      "0           1976.0         0.0       483.0         0.0  ...       576.0   \n",
      "1           1984.0         0.0       410.0         0.0  ...       240.0   \n",
      "2           1987.0       172.0        28.0      1474.0  ...       576.0   \n",
      "3           2006.0         0.0       247.0       465.0  ...       280.0   \n",
      "4           1950.0         0.0       300.0         0.0  ...       440.0   \n",
      "...            ...         ...         ...         ...  ...         ...   \n",
      "1090        1976.0         0.0       129.0       232.0  ...       336.0   \n",
      "1091        1992.0       143.0         0.0         0.0  ...       487.0   \n",
      "1092        1993.0         0.0       300.0         0.0  ...       530.0   \n",
      "1093        1950.0         0.0         0.0         0.0  ...       296.0   \n",
      "1094        1952.0       360.0         0.0         0.0  ...       400.0   \n",
      "\n",
      "      WoodDeckSF  OpenPorchSF  EnclosedPorch  3SsnPorch  ScreenPorch  \\\n",
      "0            0.0          0.0            0.0        0.0          0.0   \n",
      "1            0.0          0.0            0.0        0.0          0.0   \n",
      "2          201.0         96.0            0.0        0.0          0.0   \n",
      "3            0.0         30.0          226.0        0.0          0.0   \n",
      "4            0.0         38.0            0.0      144.0          0.0   \n",
      "...          ...          ...            ...        ...          ...   \n",
      "1090       182.0          0.0            0.0        0.0          0.0   \n",
      "1091         0.0         98.0            0.0        0.0          0.0   \n",
      "1092         0.0         63.0            0.0        0.0          0.0   \n",
      "1093       120.0          0.0            0.0        0.0          0.0   \n",
      "1094         0.0          0.0            0.0        0.0          0.0   \n",
      "\n",
      "      PoolArea  MiscVal  MoSold  YrSold  \n",
      "0          0.0      0.0     7.0  2006.0  \n",
      "1          0.0      0.0     7.0  2007.0  \n",
      "2          0.0      0.0     8.0  2007.0  \n",
      "3          0.0      0.0     6.0  2009.0  \n",
      "4          0.0      0.0     5.0  2007.0  \n",
      "...        ...      ...     ...     ...  \n",
      "1090       0.0      0.0     4.0  2010.0  \n",
      "1091       0.0      0.0     9.0  2006.0  \n",
      "1092       0.0      0.0     3.0  2008.0  \n",
      "1093       0.0      0.0    10.0  2009.0  \n",
      "1094       0.0      0.0     7.0  2009.0  \n",
      "\n",
      "[1095 rows x 36 columns],\n",
      "                                                    'trained_model': XGBRegressor(base_score=178212.72511415524, booster='gbtree',\n",
      "             colsample_bylevel=0.8, colsample_bytree=0.8, gamma=0,\n",
      "             learning_rate=0.1, max_delta_step=0, max_depth=5,\n",
      "             min_child_weight=1, missing=None, n_estimators=1000, n_jobs=1,\n",
      "             nthread=None, objective='reg:linear', random_state=42, reg_alpha=0,\n",
      "             reg_lambda=1, scale_pos_weight=1, seed=42, silent=True,\n",
      "             subsample=0.7)},\n",
      "                                           'class': 'FeatureImportanceRanking'},\n",
      "                             'desc': 'This section provides the analysis on '\n",
      "                                     'feature',\n",
      "                             'title': 'Feature Importance Analysis'}],\n",
      "               'title': 'Model Interpreter '}],\n",
      " 'name': 'Report for Advanced Housing Price Regression',\n",
      " 'overview': True,\n",
      " 'writers': [{'attr': {'name': 'housingprices-regression-model-interpreter-report'},\n",
      "              'class': 'Pdf'}]}\n"
     ]
    }
   ],
   "source": [
    "controller = Controller(config=Configuration(config, locals()))\n",
    "pprint(controller.config)"
   ]
  },
  {
   "cell_type": "markdown",
   "metadata": {},
   "source": [
    "#### 2.4 Render report"
   ]
  },
  {
   "cell_type": "code",
   "execution_count": 11,
   "metadata": {
    "scrolled": true
   },
   "outputs": [
    {
     "name": "stderr",
     "output_type": "stream",
     "text": [
      "Interpret 100/1095 samples\n",
      "Interpret 200/1095 samples\n",
      "Interpret 300/1095 samples\n",
      "Interpret 400/1095 samples\n",
      "Interpret 500/1095 samples\n",
      "Interpret 600/1095 samples\n",
      "Interpret 700/1095 samples\n",
      "Interpret 800/1095 samples\n",
      "Interpret 900/1095 samples\n",
      "Interpret 1000/1095 samples\n",
      "Setting feature_perturbation = \"tree_path_dependent\" because no background data was given.\n",
      "Warning: figure will exceed the page bottom, adding a new page.\n"
     ]
    }
   ],
   "source": [
    "controller.render()"
   ]
  },
  {
   "cell_type": "markdown",
   "metadata": {},
   "source": [
    "### Results"
   ]
  },
  {
   "cell_type": "code",
   "execution_count": 12,
   "metadata": {},
   "outputs": [
    {
     "name": "stdout",
     "output_type": "stream",
     "text": [
      "('report generated : '\n",
      " '/Users/i062308/Development/Explainable_AI/tutorials/compiler/housingprices/housingpricing-regression-model-interpreter-report.pdf')\n"
     ]
    },
    {
     "data": {
      "text/plain": [
       "'report generated : /Users/i062308/Development/Explainable_AI/tutorials/compiler/housingprices/housingpricing-regression-model-interpreter-report.pdf'"
      ]
     },
     "execution_count": 12,
     "metadata": {},
     "output_type": "execute_result"
    }
   ],
   "source": [
    "pprint(\"report generated : %s/housingpricing-regression-model-interpreter-report.pdf\" % os.getcwd())\n",
    "('report generated : '\n",
    " '/Users/i062308/Development/Explainable_AI/tutorials/compiler/housingprices/housingpricing-regression-model-interpreter-report.pdf')"
   ]
  },
  {
   "cell_type": "code",
   "execution_count": null,
   "metadata": {},
   "outputs": [],
   "source": []
  }
 ],
 "metadata": {
  "kernelspec": {
   "display_name": "xai-0.1.2-jupyter-py37",
   "language": "python",
   "name": "xai-0.1.2-jupyter-py37"
  },
  "language_info": {
   "codemirror_mode": {
    "name": "ipython",
    "version": 3
   },
   "file_extension": ".py",
   "mimetype": "text/x-python",
   "name": "python",
   "nbconvert_exporter": "python",
   "pygments_lexer": "ipython3",
   "version": "3.7.7"
  }
 },
 "nbformat": 4,
 "nbformat_minor": 1
}
