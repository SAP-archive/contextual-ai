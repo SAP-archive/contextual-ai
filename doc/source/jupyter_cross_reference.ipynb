{
 "cells": [
  {
   "cell_type": "markdown",
   "metadata": {},
   "source": [
    "# Cross Reference in Jupyter Notebooks\n",
    "\n",
    "This notebook demonstrates how to generate cross refereces to other doc pages.\n",
    "\n",
    "Click `View page source` on the top to see how references are created."
   ]
  },
  {
   "cell_type": "markdown",
   "metadata": {},
   "source": [
    "### 1. Link to another doc page\n",
    "\n",
    "Simply refer to the rst file path.\n",
    "\n",
    "Here is a link to [XAI main page](index.rst)."
   ]
  },
  {
   "cell_type": "markdown",
   "metadata": {},
   "source": [
    "### 2. Link to auto API docs\n",
    "\n",
    "\n",
    "You have to find out how the HTML anchor of your class/method is named and then replace `.html` with `.rst`.\n",
    "\n",
    "\n",
    "Here is a link to [FeatureInterpreter class](model/model.interpreter.feature_interpreter.rst#model.interpreter.feature_interpreter.FeatureInterpreter).\n",
    "\n",
    "Here is a link to [get_feature_importance_ranking()](model/model.interpreter.feature_interpreter.rst#model.interpreter.feature_interpreter.FeatureInterpreter.get_feature_distribution).\n"
   ]
  }
 ],
 "metadata": {
  "kernelspec": {
   "display_name": "Python 3",
   "language": "python",
   "name": "python3"
  },
  "language_info": {
   "codemirror_mode": {
    "name": "ipython",
    "version": 3
   },
   "file_extension": ".py",
   "mimetype": "text/x-python",
   "name": "python",
   "nbconvert_exporter": "python",
   "pygments_lexer": "ipython3",
   "version": "3.6.4"
  }
 },
 "nbformat": 4,
 "nbformat_minor": 2
}
